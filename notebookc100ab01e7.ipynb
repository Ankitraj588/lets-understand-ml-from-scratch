{
 "cells": [
  {
   "cell_type": "code",
   "execution_count": null,
   "metadata": {
    "_cell_guid": "b1076dfc-b9ad-4769-8c92-a6c4dae69d19",
    "_uuid": "8f2839f25d086af736a60e9eeb907d3b93b6e0e5",
    "execution": {
     "iopub.execute_input": "2025-08-01T18:41:03.184139Z",
     "iopub.status.busy": "2025-08-01T18:41:03.183824Z",
     "iopub.status.idle": "2025-08-01T18:41:03.343655Z",
     "shell.execute_reply": "2025-08-01T18:41:03.342625Z",
     "shell.execute_reply.started": "2025-08-01T18:41:03.184119Z"
    },
    "trusted": true
   },
   "outputs": [],
   "source": [
    "import kagglehub\n",
    "\n",
    "# Download latest version\n",
    "path = kagglehub.dataset_download(\"sameerprogrammer/college-placement\")\n",
    "\n",
    "print(\"Path to dataset files:\", path)\n"
   ]
  },
  {
   "cell_type": "code",
   "execution_count": null,
   "metadata": {
    "execution": {
     "iopub.execute_input": "2025-08-01T18:44:04.635727Z",
     "iopub.status.busy": "2025-08-01T18:44:04.635419Z",
     "iopub.status.idle": "2025-08-01T18:44:04.642876Z",
     "shell.execute_reply": "2025-08-01T18:44:04.641804Z",
     "shell.execute_reply.started": "2025-08-01T18:44:04.635707Z"
    },
    "trusted": true
   },
   "outputs": [],
   "source": [
    "import pandas as pd\n",
    "import numpy as np\n",
    "\n",
    "df=pd.read_csv('/kaggle/input/college-placement/placement-dataset.csv')"
   ]
  },
  {
   "cell_type": "code",
   "execution_count": null,
   "metadata": {
    "execution": {
     "iopub.execute_input": "2025-08-01T18:45:54.956824Z",
     "iopub.status.busy": "2025-08-01T18:45:54.955640Z",
     "iopub.status.idle": "2025-08-01T18:45:54.967507Z",
     "shell.execute_reply": "2025-08-01T18:45:54.966397Z",
     "shell.execute_reply.started": "2025-08-01T18:45:54.956793Z"
    },
    "trusted": true
   },
   "outputs": [],
   "source": [
    "df.head()\n",
    "# df.info()"
   ]
  },
  {
   "cell_type": "code",
   "execution_count": null,
   "metadata": {
    "execution": {
     "iopub.execute_input": "2025-08-01T18:50:52.686027Z",
     "iopub.status.busy": "2025-08-01T18:50:52.685728Z",
     "iopub.status.idle": "2025-08-01T18:50:52.873159Z",
     "shell.execute_reply": "2025-08-01T18:50:52.872056Z",
     "shell.execute_reply.started": "2025-08-01T18:50:52.686008Z"
    },
    "trusted": true
   },
   "outputs": [],
   "source": [
    "import matplotlib.pyplot as plt\n",
    "plt.scatter(df['cgpa'],df['iq'],c=(df['placement']))"
   ]
  },
  {
   "cell_type": "markdown",
   "metadata": {},
   "source": [
    "dekho output ko lag rh h sidha line bat sakta h right to chod do\n"
   ]
  },
  {
   "cell_type": "code",
   "execution_count": null,
   "metadata": {
    "execution": {
     "iopub.execute_input": "2025-08-01T19:00:36.838345Z",
     "iopub.status.busy": "2025-08-01T19:00:36.837996Z",
     "iopub.status.idle": "2025-08-01T19:00:36.850406Z",
     "shell.execute_reply": "2025-08-01T19:00:36.849449Z",
     "shell.execute_reply.started": "2025-08-01T19:00:36.838312Z"
    },
    "trusted": true
   },
   "outputs": [],
   "source": [
    "X = df.iloc[:, [1, 2]]\n",
    "\n",
    "# Select target (placement)\n",
    "y = df.iloc[:, 3]\n",
    "X"
   ]
  },
  {
   "cell_type": "code",
   "execution_count": null,
   "metadata": {
    "execution": {
     "iopub.execute_input": "2025-08-01T19:10:26.731656Z",
     "iopub.status.busy": "2025-08-01T19:10:26.731375Z",
     "iopub.status.idle": "2025-08-01T19:10:26.739310Z",
     "shell.execute_reply": "2025-08-01T19:10:26.738328Z",
     "shell.execute_reply.started": "2025-08-01T19:10:26.731637Z"
    },
    "trusted": true
   },
   "outputs": [],
   "source": [
    "from sklearn.model_selection import train_test_split as ts\n",
    "X_train,X_test,y_train,y_test=ts(X,y,test_size=0.1)"
   ]
  },
  {
   "cell_type": "code",
   "execution_count": null,
   "metadata": {
    "execution": {
     "iopub.execute_input": "2025-08-01T19:10:27.306728Z",
     "iopub.status.busy": "2025-08-01T19:10:27.306416Z",
     "iopub.status.idle": "2025-08-01T19:10:27.311644Z",
     "shell.execute_reply": "2025-08-01T19:10:27.310658Z",
     "shell.execute_reply.started": "2025-08-01T19:10:27.306708Z"
    },
    "trusted": true
   },
   "outputs": [],
   "source": [
    "from sklearn.preprocessing import StandardScaler"
   ]
  },
  {
   "cell_type": "code",
   "execution_count": null,
   "metadata": {
    "execution": {
     "iopub.execute_input": "2025-08-01T19:10:28.224694Z",
     "iopub.status.busy": "2025-08-01T19:10:28.224409Z",
     "iopub.status.idle": "2025-08-01T19:10:28.239094Z",
     "shell.execute_reply": "2025-08-01T19:10:28.238146Z",
     "shell.execute_reply.started": "2025-08-01T19:10:28.224676Z"
    },
    "trusted": true
   },
   "outputs": [],
   "source": [
    "ss=StandardScaler()\n",
    "X_train=ss.fit_transform(X_train)\n",
    "X_train"
   ]
  },
  {
   "cell_type": "code",
   "execution_count": null,
   "metadata": {
    "execution": {
     "iopub.execute_input": "2025-08-01T19:10:40.589098Z",
     "iopub.status.busy": "2025-08-01T19:10:40.588828Z",
     "iopub.status.idle": "2025-08-01T19:10:40.596766Z",
     "shell.execute_reply": "2025-08-01T19:10:40.595898Z",
     "shell.execute_reply.started": "2025-08-01T19:10:40.589079Z"
    },
    "trusted": true
   },
   "outputs": [],
   "source": [
    "X_test=ss.transform(X_test)\n",
    "X_test"
   ]
  },
  {
   "cell_type": "code",
   "execution_count": null,
   "metadata": {
    "execution": {
     "iopub.execute_input": "2025-08-01T19:12:09.483237Z",
     "iopub.status.busy": "2025-08-01T19:12:09.482423Z",
     "iopub.status.idle": "2025-08-01T19:12:09.583902Z",
     "shell.execute_reply": "2025-08-01T19:12:09.583062Z",
     "shell.execute_reply.started": "2025-08-01T19:12:09.483212Z"
    },
    "trusted": true
   },
   "outputs": [],
   "source": [
    "from sklearn.linear_model import LogisticRegression\n",
    "model=LogisticRegression()"
   ]
  },
  {
   "cell_type": "code",
   "execution_count": null,
   "metadata": {
    "execution": {
     "iopub.execute_input": "2025-08-01T19:12:38.838848Z",
     "iopub.status.busy": "2025-08-01T19:12:38.838522Z",
     "iopub.status.idle": "2025-08-01T19:12:38.861975Z",
     "shell.execute_reply": "2025-08-01T19:12:38.861194Z",
     "shell.execute_reply.started": "2025-08-01T19:12:38.838826Z"
    },
    "trusted": true
   },
   "outputs": [],
   "source": [
    "model.fit(X_train,y_train)"
   ]
  },
  {
   "cell_type": "code",
   "execution_count": null,
   "metadata": {
    "execution": {
     "iopub.execute_input": "2025-08-01T19:14:08.448209Z",
     "iopub.status.busy": "2025-08-01T19:14:08.447611Z",
     "iopub.status.idle": "2025-08-01T19:14:08.452626Z",
     "shell.execute_reply": "2025-08-01T19:14:08.451623Z",
     "shell.execute_reply.started": "2025-08-01T19:14:08.448185Z"
    },
    "trusted": true
   },
   "outputs": [],
   "source": [
    "y_pred=model.predict(X_test)"
   ]
  },
  {
   "cell_type": "code",
   "execution_count": null,
   "metadata": {
    "execution": {
     "iopub.execute_input": "2025-08-01T19:15:04.296165Z",
     "iopub.status.busy": "2025-08-01T19:15:04.295855Z",
     "iopub.status.idle": "2025-08-01T19:15:04.304087Z",
     "shell.execute_reply": "2025-08-01T19:15:04.303036Z",
     "shell.execute_reply.started": "2025-08-01T19:15:04.296143Z"
    },
    "trusted": true
   },
   "outputs": [],
   "source": [
    "from sklearn.metrics import accuracy_score \n",
    "accuracy_score(y_test,y_pred)"
   ]
  },
  {
   "cell_type": "code",
   "execution_count": null,
   "metadata": {
    "execution": {
     "iopub.execute_input": "2025-08-01T19:21:25.576224Z",
     "iopub.status.busy": "2025-08-01T19:21:25.575572Z",
     "iopub.status.idle": "2025-08-01T19:21:25.588617Z",
     "shell.execute_reply": "2025-08-01T19:21:25.587342Z",
     "shell.execute_reply.started": "2025-08-01T19:21:25.576191Z"
    },
    "trusted": true
   },
   "outputs": [],
   "source": []
  },
  {
   "cell_type": "code",
   "execution_count": null,
   "metadata": {
    "execution": {
     "iopub.execute_input": "2025-08-01T19:21:44.893579Z",
     "iopub.status.busy": "2025-08-01T19:21:44.893215Z",
     "iopub.status.idle": "2025-08-01T19:21:45.229678Z",
     "shell.execute_reply": "2025-08-01T19:21:45.228650Z",
     "shell.execute_reply.started": "2025-08-01T19:21:44.893556Z"
    },
    "trusted": true
   },
   "outputs": [],
   "source": [
    "from mlxtend.plotting import plot_decision_regions\n",
    "plot_decision_regions(X_train,y_train.values,clf=model,legend=2)"
   ]
  },
  {
   "cell_type": "code",
   "execution_count": null,
   "metadata": {
    "execution": {
     "iopub.execute_input": "2025-08-01T19:24:44.815181Z",
     "iopub.status.busy": "2025-08-01T19:24:44.814875Z",
     "iopub.status.idle": "2025-08-01T19:24:44.819716Z",
     "shell.execute_reply": "2025-08-01T19:24:44.818651Z",
     "shell.execute_reply.started": "2025-08-01T19:24:44.815161Z"
    },
    "trusted": true
   },
   "outputs": [],
   "source": [
    "import pickle"
   ]
  },
  {
   "cell_type": "code",
   "execution_count": null,
   "metadata": {
    "execution": {
     "iopub.execute_input": "2025-08-01T19:24:47.303144Z",
     "iopub.status.busy": "2025-08-01T19:24:47.302856Z",
     "iopub.status.idle": "2025-08-01T19:24:47.308855Z",
     "shell.execute_reply": "2025-08-01T19:24:47.308007Z",
     "shell.execute_reply.started": "2025-08-01T19:24:47.303120Z"
    },
    "trusted": true
   },
   "outputs": [],
   "source": [
    "pickle.dump(model,open('placment_predictor.pkl','wb'))"
   ]
  },
  {
   "cell_type": "code",
   "execution_count": null,
   "metadata": {
    "trusted": true
   },
   "outputs": [],
   "source": []
  }
 ],
 "metadata": {
  "kaggle": {
   "accelerator": "none",
   "dataSources": [
    {
     "databundleVersionId": 7388087,
     "datasetId": 4233528,
     "isSourceIdPinned": false,
     "sourceId": 7298157,
     "sourceType": "datasetVersion"
    }
   ],
   "dockerImageVersionId": 31089,
   "isGpuEnabled": false,
   "isInternetEnabled": false,
   "language": "python",
   "sourceType": "notebook"
  },
  "kernelspec": {
   "display_name": "Python 3",
   "language": "python",
   "name": "python3"
  },
  "language_info": {
   "codemirror_mode": {
    "name": "ipython",
    "version": 3
   },
   "file_extension": ".py",
   "mimetype": "text/x-python",
   "name": "python",
   "nbconvert_exporter": "python",
   "pygments_lexer": "ipython3",
   "version": "3.11.13"
  }
 },
 "nbformat": 4,
 "nbformat_minor": 4
}
